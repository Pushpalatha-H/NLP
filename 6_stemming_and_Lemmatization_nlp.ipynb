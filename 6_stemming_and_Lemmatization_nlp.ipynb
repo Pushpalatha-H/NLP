{
  "nbformat": 4,
  "nbformat_minor": 0,
  "metadata": {
    "colab": {
      "provenance": [],
      "authorship_tag": "ABX9TyMbjvx6mMF9/BcFYcBzNaIM",
      "include_colab_link": true
    },
    "kernelspec": {
      "name": "python3",
      "display_name": "Python 3"
    },
    "language_info": {
      "name": "python"
    }
  },
  "cells": [
    {
      "cell_type": "markdown",
      "metadata": {
        "id": "view-in-github",
        "colab_type": "text"
      },
      "source": [
        "<a href=\"https://colab.research.google.com/github/Pushpalatha-H/NLP/blob/main/6_stemming_and_Lemmatization_nlp.ipynb\" target=\"_parent\"><img src=\"https://colab.research.google.com/assets/colab-badge.svg\" alt=\"Open In Colab\"/></a>"
      ]
    },
    {
      "cell_type": "code",
      "execution_count": 12,
      "metadata": {
        "id": "AO7Ak3AGxr1q"
      },
      "outputs": [],
      "source": [
        "# stemming and Lemmatization are the steps used to perform during preprocessing steps in building nlp applications.\n",
        "# step 1: reduce the word to its base word."
      ]
    },
    {
      "cell_type": "markdown",
      "source": [
        "talking - talk\n",
        "\n",
        "eating - eat\n",
        "\n",
        "adjustable - adjust\n",
        "\n",
        "Use fixed rules such as remove able. ing etc. to derive a base word called SYEMMING\n",
        "\n",
        "ate - eat\n",
        "\n",
        "Here u need knowledge of language(a.ka.a. linguistic knowledge) to derive a base word.\n",
        "\n",
        "base word = lemma\n",
        "\n",
        "Lcalled LEMMATIZATION"
      ],
      "metadata": {
        "id": "TNSFXN451d6n"
      }
    },
    {
      "cell_type": "code",
      "source": [
        "import nltk\n",
        "import spacy"
      ],
      "metadata": {
        "id": "HFjlvxe_2vUy"
      },
      "execution_count": 13,
      "outputs": []
    },
    {
      "cell_type": "markdown",
      "source": [
        "# Stemming in NLP"
      ],
      "metadata": {
        "id": "9I2pBWl3NgRi"
      }
    },
    {
      "cell_type": "code",
      "source": [
        "from nltk.stem import PorterStemmer\n",
        "\n",
        "stemmer = PorterStemmer()"
      ],
      "metadata": {
        "id": "C5asX5Jv5gB5"
      },
      "execution_count": 14,
      "outputs": []
    },
    {
      "cell_type": "code",
      "source": [
        "words = [\"eating\", \"eats\", \"eat\", \"ate\", \"adjustable\", \"rafting\", \"ability\", \"meeting\"]\n",
        "\n",
        "for word in words:\n",
        "  print(word, \"|\", stemmer.stem(word))\n"
      ],
      "metadata": {
        "colab": {
          "base_uri": "https://localhost:8080/"
        },
        "id": "9i24TIln5sb3",
        "outputId": "3840851a-dd56-414f-8f1a-011928b78f23"
      },
      "execution_count": 15,
      "outputs": [
        {
          "output_type": "stream",
          "name": "stdout",
          "text": [
            "eating | eat\n",
            "eats | eat\n",
            "eat | eat\n",
            "ate | ate\n",
            "adjustable | adjust\n",
            "rafting | raft\n",
            "ability | abil\n",
            "meeting | meet\n"
          ]
        }
      ]
    },
    {
      "cell_type": "code",
      "source": [
        "# stemming in nlp\n",
        "\n",
        "from nltk.stem import PorterStemmer\n",
        "stemmer = PorterStemmer()\n",
        "\n",
        "words = [\"eating\", \"eats\", \"eat\", \"ate\", \"adjustable\", \"rafting\", \"ability\", \"meeting\"]\n",
        "for word in words:\n",
        "  print(word, \"|\", stemmer.stem(word))"
      ],
      "metadata": {
        "colab": {
          "base_uri": "https://localhost:8080/"
        },
        "id": "Z5W0yBdl6fe1",
        "outputId": "69084075-2410-4968-99c6-97341f43bc42"
      },
      "execution_count": 16,
      "outputs": [
        {
          "output_type": "stream",
          "name": "stdout",
          "text": [
            "eating | eat\n",
            "eats | eat\n",
            "eat | eat\n",
            "ate | ate\n",
            "adjustable | adjust\n",
            "rafting | raft\n",
            "ability | abil\n",
            "meeting | meet\n"
          ]
        }
      ]
    },
    {
      "cell_type": "markdown",
      "source": [
        "# Lemmatization in NLP"
      ],
      "metadata": {
        "id": "Pmt2NBqAkOk5"
      }
    },
    {
      "cell_type": "code",
      "source": [
        "import nltk\n",
        "import spacy\n",
        "\n",
        "nlp = spacy.load(\"en_core_web_sm\")\n",
        "\n",
        "doc = nlp(\"eating eats eat ate adjustable rafting ability meeting better\")\n",
        "\n",
        "for token in doc:\n",
        "  print(token, \"|\", token.lemma_, \"|\", token.lemma)      # lemma_ = gives the base word, # lemma = give the hash value(unique identification value for the word)"
      ],
      "metadata": {
        "colab": {
          "base_uri": "https://localhost:8080/"
        },
        "id": "Fy6BwvKFfaII",
        "outputId": "20500d0c-2dfb-45b7-f8f0-f50995b33138"
      },
      "execution_count": 17,
      "outputs": [
        {
          "output_type": "stream",
          "name": "stdout",
          "text": [
            "eating | eat | 9837207709914848172\n",
            "eats | eat | 9837207709914848172\n",
            "eat | eat | 9837207709914848172\n",
            "ate | eat | 9837207709914848172\n",
            "adjustable | adjustable | 6033511944150694480\n",
            "rafting | raft | 7154368781129989833\n",
            "ability | ability | 11565809527369121409\n",
            "meeting | meeting | 14798207169164081740\n",
            "better | well | 4525988469032889948\n"
          ]
        }
      ]
    },
    {
      "cell_type": "code",
      "source": [
        "nlp.pipe_names"
      ],
      "metadata": {
        "colab": {
          "base_uri": "https://localhost:8080/"
        },
        "id": "Tx0yhInMwqtR",
        "outputId": "e0ccfde4-3747-4cbf-e321-7053a4f02897"
      },
      "execution_count": 18,
      "outputs": [
        {
          "output_type": "execute_result",
          "data": {
            "text/plain": [
              "['tok2vec', 'tagger', 'parser', 'attribute_ruler', 'lemmatizer', 'ner']"
            ]
          },
          "metadata": {},
          "execution_count": 18
        }
      ]
    },
    {
      "cell_type": "markdown",
      "source": [
        "# Customize lemmatization"
      ],
      "metadata": {
        "id": "xo46vmFbzt-v"
      }
    },
    {
      "cell_type": "code",
      "source": [
        "import spacy\n",
        "import nltk\n",
        "\n",
        "ar = nlp.get_pipe('attribute_ruler')\n",
        "ar.add([[{\"TEXT\": 'Bro'}], [{\"TEXT\":'Brah'}]],{'LEMMA': \"Brother\"})\n",
        "\n",
        "doc = nlp(\"Bro, you wanna go? Brah, don't say no! I an exhausted\")\n",
        "\n",
        "for token in doc:\n",
        "  print(token.text, \"|\",token.lemma_)"
      ],
      "metadata": {
        "colab": {
          "base_uri": "https://localhost:8080/"
        },
        "id": "aCXMPOd0uPab",
        "outputId": "ca993757-4cae-48aa-feb0-be2b390dc812"
      },
      "execution_count": 19,
      "outputs": [
        {
          "output_type": "stream",
          "name": "stdout",
          "text": [
            "Bro | Brother\n",
            ", | ,\n",
            "you | you\n",
            "wanna | wanna\n",
            "go | go\n",
            "? | ?\n",
            "Brah | Brother\n",
            ", | ,\n",
            "do | do\n",
            "n't | not\n",
            "say | say\n",
            "no | no\n",
            "! | !\n",
            "I | I\n",
            "an | an\n",
            "exhausted | exhausted\n"
          ]
        }
      ]
    },
    {
      "cell_type": "code",
      "source": [
        "doc[0]"
      ],
      "metadata": {
        "colab": {
          "base_uri": "https://localhost:8080/"
        },
        "id": "VQ574KbE2gX-",
        "outputId": "d39da472-31cb-4f0d-8943-62b8a244d3d4"
      },
      "execution_count": 20,
      "outputs": [
        {
          "output_type": "execute_result",
          "data": {
            "text/plain": [
              "Bro"
            ]
          },
          "metadata": {},
          "execution_count": 20
        }
      ]
    },
    {
      "cell_type": "code",
      "source": [
        "doc[0].lemma_"
      ],
      "metadata": {
        "colab": {
          "base_uri": "https://localhost:8080/",
          "height": 35
        },
        "id": "4FJMxA2o2qEA",
        "outputId": "3fed8311-b065-450f-f3fc-5df3faaf1c1f"
      },
      "execution_count": 21,
      "outputs": [
        {
          "output_type": "execute_result",
          "data": {
            "text/plain": [
              "'Brother'"
            ],
            "application/vnd.google.colaboratory.intrinsic+json": {
              "type": "string"
            }
          },
          "metadata": {},
          "execution_count": 21
        }
      ]
    }
  ]
}